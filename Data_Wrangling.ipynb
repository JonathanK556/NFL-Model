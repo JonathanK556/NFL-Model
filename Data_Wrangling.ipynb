{
 "cells": [
  {
   "cell_type": "markdown",
   "id": "01c35e8b",
   "metadata": {},
   "source": [
    "Import libraries and upload data from nflverse github"
   ]
  },
  {
   "cell_type": "code",
   "execution_count": 1,
   "id": "6161a8cf-efe7-4998-b2e2-da14ec59cb12",
   "metadata": {},
   "outputs": [
    {
     "name": "stdout",
     "output_type": "stream",
     "text": [
      "Defaulting to user installation because normal site-packages is not writeable\n",
      "Requirement already satisfied: python-dotenv in /Users/jonathan/Library/Python/3.9/lib/python/site-packages (1.0.1)\n",
      "Requirement already satisfied: requests in /Users/jonathan/Library/Python/3.9/lib/python/site-packages (2.32.3)\n",
      "Requirement already satisfied: urllib3<3,>=1.21.1 in /Users/jonathan/Library/Python/3.9/lib/python/site-packages (from requests) (2.3.0)\n",
      "Requirement already satisfied: charset-normalizer<4,>=2 in /Users/jonathan/Library/Python/3.9/lib/python/site-packages (from requests) (3.4.1)\n",
      "Requirement already satisfied: certifi>=2017.4.17 in /Users/jonathan/Library/Python/3.9/lib/python/site-packages (from requests) (2024.12.14)\n",
      "Requirement already satisfied: idna<4,>=2.5 in /Users/jonathan/Library/Python/3.9/lib/python/site-packages (from requests) (3.10)\n",
      "\u001b[33mWARNING: You are using pip version 21.2.4; however, version 24.3.1 is available.\n",
      "You should consider upgrading via the '/Library/Developer/CommandLineTools/usr/bin/python3 -m pip install --upgrade pip' command.\u001b[0m\n"
     ]
    },
    {
     "name": "stderr",
     "output_type": "stream",
     "text": [
      "/Users/jonathan/Library/Python/3.9/lib/python/site-packages/urllib3/__init__.py:35: NotOpenSSLWarning: urllib3 v2 only supports OpenSSL 1.1.1+, currently the 'ssl' module is compiled with 'LibreSSL 2.8.3'. See: https://github.com/urllib3/urllib3/issues/3020\n",
      "  warnings.warn(\n"
     ]
    }
   ],
   "source": [
    "#Import package\n",
    "from urllib.request import urlretrieve\n",
    "\n",
    "#Import Pandas\n",
    "import pandas as pd\n",
    "\n",
    "#Import Numpy\n",
    "import numpy as np\n",
    "\n",
    "#Import Matplotlib\n",
    "import matplotlib.pyplot as plt\n",
    "\n",
    "#Import Seaborn\n",
    "import seaborn as sns\n",
    "\n",
    "import sys\n",
    "!{sys.executable} -m pip install python-dotenv requests\n",
    "\n",
    "#Import requests\n",
    "import requests\n",
    "\n",
    "#Import datetime\n",
    "from datetime import datetime\n",
    "\n",
    "#Import time\n",
    "import time\n",
    "\n",
    "#Import beautifulsoup\n",
    "from bs4 import BeautifulSoup"
   ]
  },
  {
   "cell_type": "code",
   "execution_count": 2,
   "id": "d882389b",
   "metadata": {},
   "outputs": [
    {
     "name": "stdout",
     "output_type": "stream",
     "text": [
      "           game_id  season game_type  week     gameday weekday gametime  \\\n",
      "0  1999_01_MIN_ATL    1999       REG     1  1999-09-12  Sunday      NaN   \n",
      "1   1999_01_KC_CHI    1999       REG     1  1999-09-12  Sunday      NaN   \n",
      "2  1999_01_PIT_CLE    1999       REG     1  1999-09-12  Sunday      NaN   \n",
      "3   1999_01_OAK_GB    1999       REG     1  1999-09-12  Sunday      NaN   \n",
      "4  1999_01_BUF_IND    1999       REG     1  1999-09-12  Sunday      NaN   \n",
      "\n",
      "  away_team  away_score home_team  ...  wind  away_qb_id  home_qb_id  \\\n",
      "0       MIN        17.0       ATL  ...   NaN  00-0003761  00-0002876   \n",
      "1        KC        17.0       CHI  ...  12.0  00-0006300  00-0010560   \n",
      "2       PIT        43.0       CLE  ...  12.0  00-0015700  00-0004230   \n",
      "3       OAK        24.0        GB  ...  10.0  00-0005741  00-0005106   \n",
      "4       BUF        14.0       IND  ...   NaN  00-0005363  00-0010346   \n",
      "\n",
      "         away_qb_name    home_qb_name          away_coach    home_coach  \\\n",
      "0  Randall Cunningham  Chris Chandler        Dennis Green    Dan Reeves   \n",
      "1         Elvis Grbac  Shane Matthews  Gunther Cunningham   Dick Jauron   \n",
      "2     Kordell Stewart       Ty Detmer         Bill Cowher  Chris Palmer   \n",
      "3         Rich Gannon     Brett Favre          Jon Gruden    Ray Rhodes   \n",
      "4         Doug Flutie  Peyton Manning       Wade Phillips      Jim Mora   \n",
      "\n",
      "         referee stadium_id                   stadium  \n",
      "0   Gerry Austin      ATL00              Georgia Dome  \n",
      "1   Phil Luckett      CHI98             Soldier Field  \n",
      "2    Bob McElwee      CLE00  Cleveland Browns Stadium  \n",
      "3  Tony Corrente      GNB00             Lambeau Field  \n",
      "4       Ron Blum      IND99                  RCA Dome  \n",
      "\n",
      "[5 rows x 46 columns]\n"
     ]
    }
   ],
   "source": [
    "#Assign Url of the file: Url\n",
    "Url = \"https://raw.githubusercontent.com/nflverse/nfldata/refs/heads/master/data/games.csv\"\n",
    "\n",
    "#Save the file locally\n",
    "urlretrieve(Url, 'games.csv')\n",
    "\n",
    "#Read file into a DataFrame and print head\n",
    "games = pd.read_csv('games.csv')\n",
    "print(games.head())"
   ]
  },
  {
   "cell_type": "code",
   "execution_count": 3,
   "id": "72f99ddb",
   "metadata": {},
   "outputs": [
    {
     "name": "stdout",
     "output_type": "stream",
     "text": [
      "<class 'pandas.core.frame.DataFrame'>\n",
      "RangeIndex: 6991 entries, 0 to 6990\n",
      "Data columns (total 46 columns):\n",
      " #   Column            Non-Null Count  Dtype  \n",
      "---  ------            --------------  -----  \n",
      " 0   game_id           6991 non-null   object \n",
      " 1   season            6991 non-null   int64  \n",
      " 2   game_type         6991 non-null   object \n",
      " 3   week              6991 non-null   int64  \n",
      " 4   gameday           6991 non-null   object \n",
      " 5   weekday           6991 non-null   object \n",
      " 6   gametime          6732 non-null   object \n",
      " 7   away_team         6991 non-null   object \n",
      " 8   away_score        6990 non-null   float64\n",
      " 9   home_team         6991 non-null   object \n",
      " 10  home_score        6990 non-null   float64\n",
      " 11  location          6991 non-null   object \n",
      " 12  result            6990 non-null   float64\n",
      " 13  total             6990 non-null   float64\n",
      " 14  overtime          6990 non-null   float64\n",
      " 15  old_game_id       6991 non-null   int64  \n",
      " 16  gsis              6990 non-null   float64\n",
      " 17  nfl_detail_id     272 non-null    object \n",
      " 18  pfr               6991 non-null   object \n",
      " 19  pff               4292 non-null   float64\n",
      " 20  espn              6991 non-null   int64  \n",
      " 21  ftn               1376 non-null   float64\n",
      " 22  away_rest         6991 non-null   int64  \n",
      " 23  home_rest         6991 non-null   int64  \n",
      " 24  away_moneyline    5010 non-null   float64\n",
      " 25  home_moneyline    5010 non-null   float64\n",
      " 26  spread_line       6991 non-null   float64\n",
      " 27  away_spread_odds  5010 non-null   float64\n",
      " 28  home_spread_odds  5010 non-null   float64\n",
      " 29  total_line        6991 non-null   float64\n",
      " 30  under_odds        5007 non-null   float64\n",
      " 31  over_odds         5007 non-null   float64\n",
      " 32  div_game          6991 non-null   int64  \n",
      " 33  roof              6991 non-null   object \n",
      " 34  surface           6948 non-null   object \n",
      " 35  temp              5016 non-null   float64\n",
      " 36  wind              5016 non-null   float64\n",
      " 37  away_qb_id        6991 non-null   object \n",
      " 38  home_qb_id        6991 non-null   object \n",
      " 39  away_qb_name      6991 non-null   object \n",
      " 40  home_qb_name      6991 non-null   object \n",
      " 41  away_coach        6991 non-null   object \n",
      " 42  home_coach        6991 non-null   object \n",
      " 43  referee           6989 non-null   object \n",
      " 44  stadium_id        6991 non-null   object \n",
      " 45  stadium           6991 non-null   object \n",
      "dtypes: float64(18), int64(7), object(21)\n",
      "memory usage: 2.5+ MB\n"
     ]
    }
   ],
   "source": [
    "#Print info of the data\n",
    "games.info()\n"
   ]
  },
  {
   "cell_type": "code",
   "execution_count": 4,
   "id": "9ab2c441",
   "metadata": {},
   "outputs": [
    {
     "data": {
      "text/plain": [
       "(6991, 46)"
      ]
     },
     "execution_count": 4,
     "metadata": {},
     "output_type": "execute_result"
    }
   ],
   "source": [
    "#Shape of the data\n",
    "games.shape"
   ]
  },
  {
   "cell_type": "code",
   "execution_count": 5,
   "id": "57e09afd",
   "metadata": {},
   "outputs": [
    {
     "data": {
      "text/plain": [
       "location\n",
       "Home       6905\n",
       "Neutral      86\n",
       "Name: count, dtype: int64"
      ]
     },
     "execution_count": 5,
     "metadata": {},
     "output_type": "execute_result"
    }
   ],
   "source": [
    "#print value counts of location column to check if games are duplicated home/away\n",
    "games.location.value_counts()"
   ]
  },
  {
   "cell_type": "markdown",
   "id": "d4f3da4f",
   "metadata": {},
   "source": [
    "More neutral games here than just superbowls, what are the other neutral games?"
   ]
  },
  {
   "cell_type": "code",
   "execution_count": 6,
   "id": "c8310655",
   "metadata": {},
   "outputs": [
    {
     "name": "stdout",
     "output_type": "stream",
     "text": [
      "              game_id                  stadium game_type\n",
      "258   1999_21_STL_TEN             Georgia Dome        SB\n",
      "517   2000_21_BAL_NYG    Raymond James Stadium        SB\n",
      "776    2001_21_STL_NE      Louisiana Superdome        SB\n",
      "1043   2002_21_OAK_TB         Qualcomm Stadium        SB\n",
      "1159   2003_08_MIA_SD        Sun Devil Stadium       REG\n",
      "...               ...                      ...       ...\n",
      "6785  2024_06_JAX_CHI        Tottenham Stadium       REG\n",
      "6799   2024_07_NE_JAX          Wembley Stadium       REG\n",
      "6845  2024_10_NYG_CAR            Allianz Arena       REG\n",
      "6983   2024_19_MIN_LA       State Farm Stadium        WC\n",
      "6990   2024_22_KC_PHI  Mercedes-Benz Superdome        SB\n",
      "\n",
      "[86 rows x 3 columns]\n"
     ]
    }
   ],
   "source": [
    "#Determine what Neutral games are\n",
    "#Filter for neutral games and display stadium info, and game type\n",
    "neutral_games = games[games.location == 'Neutral'][['game_id', 'stadium', 'game_type']]\n",
    "print(neutral_games)\n"
   ]
  },
  {
   "cell_type": "markdown",
   "id": "2ce30480",
   "metadata": {},
   "source": [
    "It seems like most of these are games played abroad, and 2 games played to avoid wildfires, 2003 MIA @ SD regular season game and 2024 MIN @ LA wildcard game, however SD no longer has a team, I should check what teams are in this data"
   ]
  },
  {
   "cell_type": "code",
   "execution_count": 7,
   "id": "ce09979e",
   "metadata": {},
   "outputs": [
    {
     "data": {
      "text/plain": [
       "home_team\n",
       "NE     239\n",
       "PHI    232\n",
       "KC     230\n",
       "GB     226\n",
       "PIT    225\n",
       "SEA    224\n",
       "IND    223\n",
       "DEN    221\n",
       "NO     221\n",
       "SF     221\n",
       "TB     221\n",
       "BAL    220\n",
       "BUF    219\n",
       "CHI    218\n",
       "ATL    217\n",
       "TEN    217\n",
       "DAL    217\n",
       "MIN    217\n",
       "NYG    216\n",
       "CAR    216\n",
       "CIN    216\n",
       "ARI    215\n",
       "WAS    214\n",
       "JAX    214\n",
       "DET    213\n",
       "MIA    213\n",
       "NYJ    211\n",
       "CLE    210\n",
       "HOU    194\n",
       "OAK    173\n",
       "SD     149\n",
       "STL    141\n",
       "LA      80\n",
       "LAC     66\n",
       "LV      42\n",
       "Name: count, dtype: int64"
      ]
     },
     "execution_count": 7,
     "metadata": {},
     "output_type": "execute_result"
    }
   ],
   "source": [
    "#How many teams are there?\n",
    "games.home_team.value_counts()"
   ]
  },
  {
   "cell_type": "markdown",
   "id": "38d05ad4",
   "metadata": {},
   "source": [
    "Teams have moved cities since 1999, when the data begins, OAK to LV, STL to LA, and SD to LAC, these teams should be combinded"
   ]
  },
  {
   "cell_type": "code",
   "execution_count": 8,
   "id": "f02eba29",
   "metadata": {},
   "outputs": [
    {
     "name": "stdout",
     "output_type": "stream",
     "text": [
      "home_team\n",
      "NE     239\n",
      "PHI    232\n",
      "KC     230\n",
      "GB     226\n",
      "PIT    225\n",
      "SEA    224\n",
      "IND    223\n",
      "DEN    221\n",
      "NO     221\n",
      "SF     221\n",
      "LA     221\n",
      "TB     221\n",
      "BAL    220\n",
      "BUF    219\n",
      "CHI    218\n",
      "MIN    217\n",
      "DAL    217\n",
      "ATL    217\n",
      "TEN    217\n",
      "CIN    216\n",
      "CAR    216\n",
      "NYG    216\n",
      "LV     215\n",
      "LAC    215\n",
      "ARI    215\n",
      "WAS    214\n",
      "JAX    214\n",
      "DET    213\n",
      "MIA    213\n",
      "NYJ    211\n",
      "CLE    210\n",
      "HOU    194\n",
      "Name: count, dtype: int64\n",
      "away_team\n",
      "BAL    232\n",
      "GB     226\n",
      "IND    225\n",
      "SEA    225\n",
      "PIT    224\n",
      "NE     223\n",
      "PHI    223\n",
      "NYG    222\n",
      "SF     222\n",
      "LA     222\n",
      "NYJ    221\n",
      "TEN    221\n",
      "MIN    220\n",
      "CAR    219\n",
      "KC     219\n",
      "LAC    219\n",
      "DAL    218\n",
      "NO     218\n",
      "TB     218\n",
      "ATL    217\n",
      "WAS    217\n",
      "CIN    217\n",
      "JAX    216\n",
      "MIA    216\n",
      "DEN    215\n",
      "DET    215\n",
      "ARI    215\n",
      "BUF    215\n",
      "CLE    214\n",
      "LV     214\n",
      "CHI    211\n",
      "HOU    192\n",
      "Name: count, dtype: int64\n"
     ]
    },
    {
     "name": "stderr",
     "output_type": "stream",
     "text": [
      "/var/folders/pm/v1wywnps12sf4vmw4zxrydwr0000gn/T/ipykernel_31809/2999817110.py:2: FutureWarning: A value is trying to be set on a copy of a DataFrame or Series through chained assignment using an inplace method.\n",
      "The behavior will change in pandas 3.0. This inplace method will never work because the intermediate object on which we are setting values always behaves as a copy.\n",
      "\n",
      "For example, when doing 'df[col].method(value, inplace=True)', try using 'df.method({col: value}, inplace=True)' or df[col] = df[col].method(value) instead, to perform the operation inplace on the original object.\n",
      "\n",
      "\n",
      "  games.home_team.replace({'OAK': 'LV', 'STL': 'LA', 'SD': 'LAC'}, inplace=True)\n",
      "/var/folders/pm/v1wywnps12sf4vmw4zxrydwr0000gn/T/ipykernel_31809/2999817110.py:3: FutureWarning: A value is trying to be set on a copy of a DataFrame or Series through chained assignment using an inplace method.\n",
      "The behavior will change in pandas 3.0. This inplace method will never work because the intermediate object on which we are setting values always behaves as a copy.\n",
      "\n",
      "For example, when doing 'df[col].method(value, inplace=True)', try using 'df.method({col: value}, inplace=True)' or df[col] = df[col].method(value) instead, to perform the operation inplace on the original object.\n",
      "\n",
      "\n",
      "  games.away_team.replace({'OAK': 'LV', 'STL': 'LA', 'SD': 'LAC'}, inplace=True)\n"
     ]
    }
   ],
   "source": [
    "#Combine teams that have moved cities for home_team and away_team\n",
    "games.home_team.replace({'OAK': 'LV', 'STL': 'LA', 'SD': 'LAC'}, inplace=True)\n",
    "games.away_team.replace({'OAK': 'LV', 'STL': 'LA', 'SD': 'LAC'}, inplace=True)\n",
    "\n",
    "#check value counts of home_team and away_team\n",
    "print(games.home_team.value_counts())\n",
    "print(games.away_team.value_counts())"
   ]
  },
  {
   "cell_type": "code",
   "execution_count": 9,
   "id": "53089453",
   "metadata": {},
   "outputs": [
    {
     "name": "stdout",
     "output_type": "stream",
     "text": [
      "nfl_detail_id       6719\n",
      "ftn                 5615\n",
      "pff                 2699\n",
      "under_odds          1984\n",
      "over_odds           1984\n",
      "home_moneyline      1981\n",
      "away_moneyline      1981\n",
      "away_spread_odds    1981\n",
      "home_spread_odds    1981\n",
      "temp                1975\n",
      "wind                1975\n",
      "gametime             259\n",
      "surface               43\n",
      "referee                2\n",
      "total                  1\n",
      "away_score             1\n",
      "home_score             1\n",
      "result                 1\n",
      "overtime               1\n",
      "gsis                   1\n",
      "div_game               0\n",
      "roof                   0\n",
      "game_id                0\n",
      "home_qb_id             0\n",
      "away_qb_name           0\n",
      "home_qb_name           0\n",
      "away_coach             0\n",
      "home_coach             0\n",
      "stadium_id             0\n",
      "away_qb_id             0\n",
      "home_rest              0\n",
      "total_line             0\n",
      "spread_line            0\n",
      "season                 0\n",
      "away_rest              0\n",
      "espn                   0\n",
      "pfr                    0\n",
      "old_game_id            0\n",
      "location               0\n",
      "home_team              0\n",
      "away_team              0\n",
      "weekday                0\n",
      "gameday                0\n",
      "week                   0\n",
      "game_type              0\n",
      "stadium                0\n",
      "dtype: int64\n"
     ]
    }
   ],
   "source": [
    "#Check for null values in each column\n",
    "print(games.isnull().sum().sort_values(ascending=False))"
   ]
  },
  {
   "cell_type": "code",
   "execution_count": 10,
   "id": "b357525d",
   "metadata": {},
   "outputs": [
    {
     "name": "stdout",
     "output_type": "stream",
     "text": [
      "             game_id home_team away_team  home_score  away_score     gameday\n",
      "6990  2024_22_KC_PHI       PHI        KC         NaN         NaN  2025-02-09\n"
     ]
    }
   ],
   "source": [
    "#Display row with missing scores\n",
    "print(games[games.home_score.isnull() | games.away_score.isnull()][['game_id', 'home_team', 'away_team', 'home_score', 'away_score', 'gameday']])\n"
   ]
  },
  {
   "cell_type": "markdown",
   "id": "a4a73fdb",
   "metadata": {},
   "source": [
    "The 2024 SB has not been played yet, so it is not a problem that the scores are missing.\n",
    "\n",
    "Missing values for gambling lines can be ignored for now, as the goal for the model is to predict the outcome of the game.\n",
    "They may be useful later, so I will keep them to the side.\n",
    "\n",
    "PFF and PTN are ID numbers for premium databases, so they will be ignored in this project.\n",
    "\n",
    "Game time is missing just for the 1999 season, so it is not a problem that it is missing."
   ]
  },
  {
   "cell_type": "code",
   "execution_count": 11,
   "id": "6872a385",
   "metadata": {},
   "outputs": [
    {
     "name": "stdout",
     "output_type": "stream",
     "text": [
      "Rows with missing wind values:\n",
      "              game_id home_team away_team     gameday  wind\n",
      "0     1999_01_MIN_ATL       ATL       MIN  1999-09-12   NaN\n",
      "4     1999_01_BUF_IND       IND       BUF  1999-09-12   NaN\n",
      "6      1999_01_CAR_NO        NO       CAR  1999-09-12   NaN\n",
      "9     1999_01_DET_SEA       SEA       DET  1999-09-12   NaN\n",
      "10    1999_01_BAL_STL        LA       BAL  1999-09-12   NaN\n",
      "...               ...       ...       ...         ...   ...\n",
      "6977  2024_18_MIN_DET       DET       MIN  2025-01-05   NaN\n",
      "6978  2024_19_LAC_HOU       HOU       LAC  2025-01-11   NaN\n",
      "6983   2024_19_MIN_LA        LA       MIN  2025-01-13   NaN\n",
      "6985  2024_20_WAS_DET       DET       WAS  2025-01-18   NaN\n",
      "6990   2024_22_KC_PHI       PHI        KC  2025-02-09   NaN\n",
      "\n",
      "[1975 rows x 5 columns]\n",
      "\n",
      "Rows with missing temperature values:\n",
      "              game_id home_team away_team     gameday  temp\n",
      "0     1999_01_MIN_ATL       ATL       MIN  1999-09-12   NaN\n",
      "4     1999_01_BUF_IND       IND       BUF  1999-09-12   NaN\n",
      "6      1999_01_CAR_NO        NO       CAR  1999-09-12   NaN\n",
      "9     1999_01_DET_SEA       SEA       DET  1999-09-12   NaN\n",
      "10    1999_01_BAL_STL        LA       BAL  1999-09-12   NaN\n",
      "...               ...       ...       ...         ...   ...\n",
      "6977  2024_18_MIN_DET       DET       MIN  2025-01-05   NaN\n",
      "6978  2024_19_LAC_HOU       HOU       LAC  2025-01-11   NaN\n",
      "6983   2024_19_MIN_LA        LA       MIN  2025-01-13   NaN\n",
      "6985  2024_20_WAS_DET       DET       WAS  2025-01-18   NaN\n",
      "6990   2024_22_KC_PHI       PHI        KC  2025-02-09   NaN\n",
      "\n",
      "[1975 rows x 5 columns]\n"
     ]
    }
   ],
   "source": [
    "#Check for missing wind and temperature values\n",
    "print(\"Rows with missing wind values:\")\n",
    "print(games[games.wind.isnull()][['game_id', 'home_team', 'away_team', 'gameday', 'wind']])\n",
    "print(\"\\nRows with missing temperature values:\")\n",
    "print(games[games.temp.isnull()][['game_id', 'home_team', 'away_team', 'gameday', 'temp']])\n"
   ]
  },
  {
   "cell_type": "markdown",
   "id": "26483f6d",
   "metadata": {},
   "source": [
    "Some of these stadiums are domes, so the wind and temperature may not be relevant data will be missing for these. If they are a dome I will impute 0 for wind and 70 for temp, the average indoor nfl stadium temperature."
   ]
  },
  {
   "cell_type": "code",
   "execution_count": 12,
   "id": "07630e19",
   "metadata": {},
   "outputs": [
    {
     "name": "stdout",
     "output_type": "stream",
     "text": [
      "\n",
      "Unique values for roof:\n",
      "roof\n",
      "outdoors    5140\n",
      "dome        1144\n",
      "closed       579\n",
      "open         128\n",
      "Name: count, dtype: int64\n"
     ]
    }
   ],
   "source": [
    "#Check unique values for roof\n",
    "print(\"\\nUnique values for roof:\")\n",
    "print(games.roof.value_counts())\n"
   ]
  },
  {
   "cell_type": "code",
   "execution_count": 13,
   "id": "5690f479",
   "metadata": {},
   "outputs": [
    {
     "name": "stdout",
     "output_type": "stream",
     "text": [
      "\n",
      "Rows where roof is open or closed:\n",
      "              game_id home_team away_team     gameday    roof\n",
      "791   2002_01_DAL_HOU       HOU       DAL  2002-09-08  closed\n",
      "810   2002_03_IND_HOU       HOU       IND  2002-09-22    open\n",
      "853   2002_06_BUF_HOU       HOU       BUF  2002-10-13  closed\n",
      "898   2002_09_CIN_HOU       HOU       CIN  2002-11-03  closed\n",
      "923   2002_11_JAX_HOU       HOU       JAX  2002-11-17    open\n",
      "...               ...       ...       ...         ...     ...\n",
      "6965  2024_18_WAS_DAL       DAL       WAS  2025-01-05  closed\n",
      "6967  2024_18_JAX_IND       IND       JAX  2025-01-05  closed\n",
      "6972   2024_18_SF_ARI       ARI        SF  2025-01-05  closed\n",
      "6978  2024_19_LAC_HOU       HOU       LAC  2025-01-11  closed\n",
      "6983   2024_19_MIN_LA        LA       MIN  2025-01-13  closed\n",
      "\n",
      "[707 rows x 5 columns]\n"
     ]
    }
   ],
   "source": [
    "#Display rows where roof is open or closed\n",
    "print(\"\\nRows where roof is open or closed:\")\n",
    "print(games[games.roof.isin(['open', 'closed'])][['game_id', 'home_team', 'away_team', 'gameday', 'roof']])\n"
   ]
  },
  {
   "cell_type": "code",
   "execution_count": 14,
   "id": "7fb1028c",
   "metadata": {},
   "outputs": [
    {
     "name": "stdout",
     "output_type": "stream",
     "text": [
      "\n",
      "Remaining rows with missing wind values:\n",
      "              game_id home_team away_team     gameday  wind      roof\n",
      "334   2000_06_BUF_MIA       MIA       BUF  2000-10-08   NaN  outdoors\n",
      "467    2000_15_CAR_KC        KC       CAR  2000-12-10   NaN  outdoors\n",
      "810   2002_03_IND_HOU       HOU       IND  2002-09-22   NaN      open\n",
      "923   2002_11_JAX_HOU       HOU       JAX  2002-11-17   NaN      open\n",
      "949   2002_12_NYG_HOU       HOU       NYG  2002-11-24   NaN      open\n",
      "...               ...       ...       ...         ...   ...       ...\n",
      "6707   2024_01_GB_PHI       PHI        GB  2024-09-06   NaN  outdoors\n",
      "6845  2024_10_NYG_CAR       CAR       NYG  2024-11-10   NaN  outdoors\n",
      "6891  2024_13_HOU_JAX       JAX       HOU  2024-12-01   NaN  outdoors\n",
      "6918  2024_15_NYJ_JAX       JAX       NYJ  2024-12-15   NaN  outdoors\n",
      "6961   2024_17_DET_SF        SF       DET  2024-12-30   NaN  outdoors\n",
      "\n",
      "[252 rows x 6 columns]\n",
      "\n",
      "Remaining rows with missing temperature values:\n",
      "              game_id home_team away_team     gameday  temp      roof\n",
      "334   2000_06_BUF_MIA       MIA       BUF  2000-10-08   NaN  outdoors\n",
      "467    2000_15_CAR_KC        KC       CAR  2000-12-10   NaN  outdoors\n",
      "810   2002_03_IND_HOU       HOU       IND  2002-09-22   NaN      open\n",
      "923   2002_11_JAX_HOU       HOU       JAX  2002-11-17   NaN      open\n",
      "949   2002_12_NYG_HOU       HOU       NYG  2002-11-24   NaN      open\n",
      "...               ...       ...       ...         ...   ...       ...\n",
      "6707   2024_01_GB_PHI       PHI        GB  2024-09-06   NaN  outdoors\n",
      "6845  2024_10_NYG_CAR       CAR       NYG  2024-11-10   NaN  outdoors\n",
      "6891  2024_13_HOU_JAX       JAX       HOU  2024-12-01   NaN  outdoors\n",
      "6918  2024_15_NYJ_JAX       JAX       NYJ  2024-12-15   NaN  outdoors\n",
      "6961   2024_17_DET_SF        SF       DET  2024-12-30   NaN  outdoors\n",
      "\n",
      "[252 rows x 6 columns]\n"
     ]
    }
   ],
   "source": [
    "# Impute wind and temp values for indoor stadiums\n",
    "games.loc[(games.wind.isnull()) & (games.roof.isin(['dome', 'closed'])), 'wind'] = 0\n",
    "games.loc[(games.temp.isnull()) & (games.roof.isin(['dome', 'closed'])), 'temp'] = 70\n",
    "\n",
    "# Check remaining missing values\n",
    "print(\"\\nRemaining rows with missing wind values:\")\n",
    "print(games[games.wind.isnull()][['game_id', 'home_team', 'away_team', 'gameday', 'wind', 'roof']])\n",
    "print(\"\\nRemaining rows with missing temperature values:\") \n",
    "print(games[games.temp.isnull()][['game_id', 'home_team', 'away_team', 'gameday', 'temp', 'roof']])\n"
   ]
  },
  {
   "cell_type": "markdown",
   "id": "1363f94d",
   "metadata": {},
   "source": [
    "For remaining missing values I will pull historical weather data from an API and impute the values.\n",
    "First I need to fill in the missing game times for the 1999 season."
   ]
  },
  {
   "cell_type": "code",
   "execution_count": 15,
   "id": "7a741f4e",
   "metadata": {},
   "outputs": [
    {
     "name": "stdout",
     "output_type": "stream",
     "text": [
      "Rows with missing game times:\n",
      "             game_id home_team away_team     gameday gametime\n",
      "0    1999_01_MIN_ATL       ATL       MIN  1999-09-12      NaN\n",
      "1     1999_01_KC_CHI       CHI        KC  1999-09-12      NaN\n",
      "2    1999_01_PIT_CLE       CLE       PIT  1999-09-12      NaN\n",
      "3     1999_01_OAK_GB        GB        LV  1999-09-12      NaN\n",
      "4    1999_01_BUF_IND       IND       BUF  1999-09-12      NaN\n",
      "..               ...       ...       ...         ...      ...\n",
      "254  1999_19_TEN_IND       IND       TEN  2000-01-16      NaN\n",
      "255  1999_19_MIN_STL        LA       MIN  2000-01-16      NaN\n",
      "256  1999_20_TEN_JAX       JAX       TEN  2000-01-23      NaN\n",
      "257   1999_20_TB_STL        LA        TB  2000-01-23      NaN\n",
      "258  1999_21_STL_TEN       TEN        LA  2000-01-30      NaN\n",
      "\n",
      "[259 rows x 5 columns]\n"
     ]
    }
   ],
   "source": [
    "# Check for missing game times\n",
    "print(\"Rows with missing game times:\")\n",
    "print(games[games.gametime.isnull()][['game_id', 'home_team', 'away_team', 'gameday', 'gametime']])\n"
   ]
  },
  {
   "cell_type": "markdown",
   "id": "f46471ca",
   "metadata": {},
   "source": [
    "To get times I will be bringing in another dataframe from pro football reference and taking times from there."
   ]
  },
  {
   "cell_type": "code",
   "execution_count": 16,
   "id": "2126b1bb",
   "metadata": {},
   "outputs": [
    {
     "name": "stdout",
     "output_type": "stream",
     "text": [
      "  Week  Day        Date    Time              Winner                Loser  \\\n",
      "0    1  Sun  1999-09-12  1:00PM      Dallas Cowboys  Washington Redskins   \n",
      "1    1  Sun  1999-09-12  1:02PM  Indianapolis Colts        Buffalo Bills   \n",
      "2    1  Sun  1999-09-12  1:02PM  New Orleans Saints    Carolina Panthers   \n",
      "3    1  Sun  1999-09-12  1:02PM       Chicago Bears   Kansas City Chiefs   \n",
      "4    1  Sun  1999-09-12  1:02PM   Green Bay Packers      Oakland Raiders   \n",
      "\n",
      "       PtsW PtsL YdsW  TOW YdsL  TOL  \n",
      "0  boxscore   41   35  541    3  504  \n",
      "1  boxscore   31   14  393    3  321  \n",
      "2  boxscore   19   10  255    0  246  \n",
      "3  boxscore   20   17  388    2  349  \n",
      "4  boxscore   28   24  409    4  363  \n",
      "<class 'pandas.core.frame.DataFrame'>\n",
      "RangeIndex: 276 entries, 0 to 275\n",
      "Data columns (total 12 columns):\n",
      " #   Column  Non-Null Count  Dtype \n",
      "---  ------  --------------  ----- \n",
      " 0   Week    276 non-null    object\n",
      " 1   Day     276 non-null    object\n",
      " 2   Date    276 non-null    object\n",
      " 3   Time    276 non-null    object\n",
      " 4   Winner  276 non-null    object\n",
      " 5   Loser   276 non-null    object\n",
      " 6   PtsW    276 non-null    object\n",
      " 7   PtsL    276 non-null    object\n",
      " 8   YdsW    276 non-null    object\n",
      " 9   TOW     276 non-null    object\n",
      " 10  YdsL    276 non-null    object\n",
      " 11  TOL     276 non-null    object\n",
      "dtypes: object(12)\n",
      "memory usage: 26.0+ KB\n",
      "None\n",
      "(276, 12)\n"
     ]
    }
   ],
   "source": [
    "url2 = 'https://www.pro-football-reference.com/years/1999/games.htm#games'\n",
    "# Send GET request and create BeautifulSoup object\n",
    "import requests\n",
    "response = requests.get(url2)\n",
    "soup = BeautifulSoup(response.content, 'html.parser')\n",
    "\n",
    "# Find the main games table\n",
    "table = soup.find('table', id='games')\n",
    "\n",
    "# Initialize lists to store data\n",
    "data = []\n",
    "\n",
    "# Extract data from table rows\n",
    "for row in table.find_all('tr')[1:]:  # Skip header row\n",
    "    cols = row.find_all(['th', 'td'])\n",
    "    if len(cols) > 0:\n",
    "        week = cols[0].text.strip()\n",
    "        day = cols[1].text.strip()\n",
    "        date = cols[2].text.strip()\n",
    "        time = cols[3].text.strip()\n",
    "        winner = cols[4].text.strip()\n",
    "        loser = cols[6].text.strip()\n",
    "        pts_w = cols[7].text.strip()\n",
    "        pts_l = cols[8].text.strip()\n",
    "        yds_w = cols[9].text.strip()\n",
    "        to_w = cols[10].text.strip()\n",
    "        yds_l = cols[11].text.strip()\n",
    "        to_l = cols[12].text.strip()\n",
    "        \n",
    "        data.append([week, day, date, time, winner, loser, pts_w, pts_l, yds_w, to_w, yds_l, to_l])\n",
    "\n",
    "# Create DataFrame\n",
    "games1999 = pd.DataFrame(data, columns=['Week', 'Day', 'Date', 'Time', 'Winner', 'Loser', \n",
    "                                      'PtsW', 'PtsL', 'YdsW', 'TOW', 'YdsL', 'TOL'])\n",
    " #print games1999 head\n",
    "print(games1999.head())\n",
    "print(games1999.info())\n",
    "print(games1999.shape)"
   ]
  },
  {
   "cell_type": "code",
   "execution_count": 17,
   "id": "5796a7aa",
   "metadata": {},
   "outputs": [
    {
     "name": "stdout",
     "output_type": "stream",
     "text": [
      "\n",
      "After team name conversion:\n",
      "  Winner Loser\n",
      "0    DAL   WAS\n",
      "1    IND   BUF\n",
      "2     NO   CAR\n",
      "3    CHI    KC\n",
      "4     GB    LV\n"
     ]
    }
   ],
   "source": [
    "# Create dictionary for team name to abbreviation mapping\n",
    "team_mapping = {\n",
    "    'Arizona Cardinals': 'ARI', 'Atlanta Falcons': 'ATL', 'Baltimore Ravens': 'BAL', \n",
    "    'Buffalo Bills': 'BUF', 'Carolina Panthers': 'CAR', 'Chicago Bears': 'CHI',\n",
    "    'Cincinnati Bengals': 'CIN', 'Cleveland Browns': 'CLE', 'Dallas Cowboys': 'DAL',\n",
    "    'Denver Broncos': 'DEN', 'Detroit Lions': 'DET', 'Green Bay Packers': 'GB',\n",
    "    'Houston Texans': 'HOU', 'Indianapolis Colts': 'IND', 'Jacksonville Jaguars': 'JAX',\n",
    "    'Kansas City Chiefs': 'KC', 'Los Angeles Chargers': 'LAC', 'Los Angeles Rams': 'LA',\n",
    "    'Las Vegas Raiders': 'LV', 'Miami Dolphins': 'MIA', 'Minnesota Vikings': 'MIN',\n",
    "    'New England Patriots': 'NE', 'New Orleans Saints': 'NO', 'New York Giants': 'NYG',\n",
    "    'New York Jets': 'NYJ', 'Philadelphia Eagles': 'PHI', 'Pittsburgh Steelers': 'PIT',\n",
    "    'San Francisco 49ers': 'SF', 'Seattle Seahawks': 'SEA', 'Tampa Bay Buccaneers': 'TB',\n",
    "    'Tennessee Titans': 'TEN', 'Washington Commanders': 'WAS',\n",
    "    # Add historical team names\n",
    "    'Oakland Raiders': 'LV', 'San Diego Chargers': 'LAC', 'St. Louis Rams': 'LA',\n",
    "    'Washington Redskins': 'WAS', 'Washington Football Team': 'WAS'\n",
    "}\n",
    "\n",
    "# Replace team names with abbreviations\n",
    "games1999['Winner'] = games1999['Winner'].replace(team_mapping)\n",
    "games1999['Loser'] = games1999['Loser'].replace(team_mapping)\n",
    "\n",
    "# Verify the changes\n",
    "print(\"\\nAfter team name conversion:\")\n",
    "print(games1999[['Winner', 'Loser']].head())\n"
   ]
  },
  {
   "cell_type": "code",
   "execution_count": 18,
   "id": "f58d8b8a",
   "metadata": {},
   "outputs": [
    {
     "name": "stdout",
     "output_type": "stream",
     "text": [
      "Unique time values:\n",
      "['1:00PM' '1:02PM' '1:03PM' '1:04PM' '4:15PM' '4:16PM' '8:26PM' '9:07PM'\n",
      " 'Time' '1:01PM' '4:05PM' '8:22PM' '8:23PM' '8:08PM' '1:05PM' '4:18PM'\n",
      " '8:24PM' '4:06PM' '4:17PM' '9:09PM' '8:21PM' '1:06PM' '5:15PM' '2:00PM'\n",
      " '2:55PM' '8:20PM' '9:10PM' '12:00PM' '12:03PM' '9:08PM' '5:05PM'\n",
      " '11:07PM' '12:35PM' '1:10PM' '4:07PM' '1:15PM' '9:05PM' '2:05PM'\n",
      " '12:41PM' '2:15PM' '6:23PM' '9:15PM' '3:00PM' '' '12:32PM' '12:42PM'\n",
      " '4:22PM' '6:25PM']\n",
      "\n",
      "After conversion:\n",
      "0    13:00\n",
      "1    13:02\n",
      "2    13:02\n",
      "3    13:02\n",
      "4    13:02\n",
      "Name: Time, dtype: object\n"
     ]
    }
   ],
   "source": [
    "#Check unique values of Time\n",
    "print(\"Unique time values:\")\n",
    "print(games1999['Time'].unique())\n",
    "\n",
    "# Define a function to convert time to 24-hour format\n",
    "def convert_to_24hr(time_str):\n",
    "    try:\n",
    "        # Remove any extra spaces\n",
    "        time_str = time_str.strip()\n",
    "        # Convert to datetime using pandas\n",
    "        time_obj = pd.to_datetime(time_str).strftime('%H:%M')\n",
    "        return time_obj\n",
    "    except:\n",
    "        return time_str  # Return original if conversion fails\n",
    "\n",
    "# Apply the conversion\n",
    "games1999['Time'] = games1999['Time'].apply(convert_to_24hr)\n",
    "\n",
    "# Check the results\n",
    "print(\"\\nAfter conversion:\")\n",
    "print(games1999['Time'].head())"
   ]
  },
  {
   "cell_type": "code",
   "execution_count": 19,
   "id": "cddab5bf",
   "metadata": {},
   "outputs": [
    {
     "name": "stdout",
     "output_type": "stream",
     "text": [
      "Unique game times:\n",
      "[nan '13:00' '16:05' '16:15' '20:20' '09:00' '12:00' '15:05' '15:15'\n",
      " '13:05' '12:30' '16:00' '18:18' '20:30' '13:30' '17:00' '16:30' '20:00'\n",
      " '18:40' '15:00' '18:30' '20:15' '14:00' '16:45' '18:45' '18:25' '19:30'\n",
      " '19:00' '22:15' '16:25' '16:35' '20:25' '19:10' '22:25' '20:40' '18:31'\n",
      " '16:40' '18:32' '21:15' '19:20' '23:30' '20:10' '21:20' '09:30' '18:50'\n",
      " '22:20' '21:30' '16:36' '18:41' '19:15' '22:10' '19:05' '21:00' '15:40'\n",
      " '20:05' '16:50']\n"
     ]
    }
   ],
   "source": [
    "# Get unique values from gametime column\n",
    "print(\"Unique game times:\")\n",
    "print(games['gametime'].unique())\n",
    "\n"
   ]
  },
  {
   "cell_type": "markdown",
   "id": "05e050da",
   "metadata": {},
   "source": [
    "This will be easier to work with if I create a winner column based on scores and teams."
   ]
  },
  {
   "cell_type": "code",
   "execution_count": 20,
   "id": "b7b30334",
   "metadata": {},
   "outputs": [
    {
     "name": "stdout",
     "output_type": "stream",
     "text": [
      "\n",
      "Sample of Winners:\n",
      "  home_team away_team  home_score  away_score Winner\n",
      "0       ATL       MIN        14.0        17.0    MIN\n",
      "1       CHI        KC        20.0        17.0    CHI\n",
      "2       CLE       PIT         0.0        43.0    PIT\n",
      "3        GB        LV        28.0        24.0     GB\n",
      "4       IND       BUF        31.0        14.0    IND\n"
     ]
    }
   ],
   "source": [
    "# Create Winner column based on scores and teams\n",
    "games['Winner'] = games.apply(lambda row: \n",
    "    row['home_team'] if row['home_score'] > row['away_score']\n",
    "    else row['away_team'] if row['away_score'] > row['home_score']\n",
    "    else 'Tie', axis=1)\n",
    "\n",
    "# Verify the results\n",
    "print(\"\\nSample of Winners:\")\n",
    "print(games[['home_team', 'away_team', 'home_score', 'away_score', 'Winner']].head())\n"
   ]
  },
  {
   "cell_type": "code",
   "execution_count": 21,
   "id": "6f32b03e",
   "metadata": {},
   "outputs": [
    {
     "name": "stdout",
     "output_type": "stream",
     "text": [
      "\n",
      "Missing times after filling:\n",
      "0\n",
      "\n",
      "Sample of filled times:\n",
      "      gameday Winner gametime\n",
      "0  1999-09-12    MIN    16:15\n",
      "1  1999-09-12    CHI    13:02\n",
      "2  1999-09-12    PIT    20:26\n",
      "3  1999-09-12     GB    13:02\n",
      "4  1999-09-12    IND    13:02\n"
     ]
    }
   ],
   "source": [
    "# Create a mapping of game details to times from games1999\n",
    "time_mapping = games1999.set_index(['Winner', 'Date'])['Time'].to_dict()\n",
    "\n",
    "# Function to look up time based on winner and date\n",
    "def get_time(row):\n",
    "    if pd.isna(row['gametime']):\n",
    "        try:\n",
    "            # Try to find matching game in 1999 data\n",
    "            return time_mapping.get((row['Winner'], row['gameday']))\n",
    "        except:\n",
    "            return row['gametime']\n",
    "    return row['gametime']\n",
    "\n",
    "# Fill missing times\n",
    "games['gametime'] = games.apply(get_time, axis=1)\n",
    "\n",
    "# Check results\n",
    "print(\"\\nMissing times after filling:\")\n",
    "print(games['gametime'].isna().sum())\n",
    "print(\"\\nSample of filled times:\")\n",
    "print(games[['gameday', 'Winner', 'gametime']].head())\n"
   ]
  },
  {
   "cell_type": "markdown",
   "id": "77aac8cd",
   "metadata": {},
   "source": [
    "Now the times are set. We need to find which stadiums have missing wind and temp data, and use the lat/long of each stadium to get weather data from the API with our dates and times."
   ]
  },
  {
   "cell_type": "code",
   "execution_count": 29,
   "id": "4ae6d94c",
   "metadata": {},
   "outputs": [
    {
     "name": "stdout",
     "output_type": "stream",
     "text": [
      "nfl_detail_id       6719\n",
      "ftn                 5615\n",
      "pff                 2699\n",
      "over_odds           1984\n",
      "under_odds          1984\n",
      "home_spread_odds    1981\n",
      "away_spread_odds    1981\n",
      "home_moneyline      1981\n",
      "away_moneyline      1981\n",
      "wind                 252\n",
      "temp                 252\n",
      "surface               43\n",
      "referee                2\n",
      "result                 1\n",
      "total                  1\n",
      "overtime               1\n",
      "gsis                   1\n",
      "away_score             1\n",
      "home_score             1\n",
      "roof                   0\n",
      "div_game               0\n",
      "game_id                0\n",
      "home_qb_id             0\n",
      "away_qb_name           0\n",
      "home_qb_name           0\n",
      "away_coach             0\n",
      "home_coach             0\n",
      "stadium_id             0\n",
      "stadium                0\n",
      "away_qb_id             0\n",
      "home_rest              0\n",
      "total_line             0\n",
      "spread_line            0\n",
      "season                 0\n",
      "away_rest              0\n",
      "espn                   0\n",
      "pfr                    0\n",
      "old_game_id            0\n",
      "location               0\n",
      "home_team              0\n",
      "away_team              0\n",
      "gametime               0\n",
      "weekday                0\n",
      "gameday                0\n",
      "week                   0\n",
      "game_type              0\n",
      "Winner                 0\n",
      "dtype: int64\n"
     ]
    }
   ],
   "source": [
    "print(games.isnull().sum().sort_values(ascending=False))"
   ]
  }
 ],
 "metadata": {
  "kernelspec": {
   "display_name": "Python 3",
   "language": "python",
   "name": "python3"
  },
  "language_info": {
   "codemirror_mode": {
    "name": "ipython",
    "version": 3
   },
   "file_extension": ".py",
   "mimetype": "text/x-python",
   "name": "python",
   "nbconvert_exporter": "python",
   "pygments_lexer": "ipython3",
   "version": "3.9.6"
  }
 },
 "nbformat": 4,
 "nbformat_minor": 5
}
