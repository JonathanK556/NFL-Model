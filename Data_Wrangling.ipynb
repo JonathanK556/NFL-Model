{
 "cells": [
  {
   "cell_type": "markdown",
   "id": "01c35e8b",
   "metadata": {},
   "source": [
    "Import libraries and upload data from nflverse github"
   ]
  },
  {
   "cell_type": "code",
   "execution_count": 5,
   "id": "6161a8cf-efe7-4998-b2e2-da14ec59cb12",
   "metadata": {},
   "outputs": [],
   "source": [
    "#Import package\n",
    "from urllib.request import urlretrieve\n",
    "\n",
    "#Import Pandas\n",
    "import pandas as pd\n",
    "\n",
    "#Import Numpy\n",
    "import numpy as np\n",
    "\n",
    "#Import Matplotlib\n",
    "import matplotlib.pyplot as plt\n",
    "\n",
    "#Import Seaborn\n",
    "import seaborn as sns"
   ]
  },
  {
   "cell_type": "code",
   "execution_count": 8,
   "id": "d882389b",
   "metadata": {},
   "outputs": [
    {
     "name": "stdout",
     "output_type": "stream",
     "text": [
      "           game_id  season game_type  week     gameday weekday gametime  \\\n",
      "0  1999_01_MIN_ATL    1999       REG     1  1999-09-12  Sunday      NaN   \n",
      "1   1999_01_KC_CHI    1999       REG     1  1999-09-12  Sunday      NaN   \n",
      "2  1999_01_PIT_CLE    1999       REG     1  1999-09-12  Sunday      NaN   \n",
      "3   1999_01_OAK_GB    1999       REG     1  1999-09-12  Sunday      NaN   \n",
      "4  1999_01_BUF_IND    1999       REG     1  1999-09-12  Sunday      NaN   \n",
      "\n",
      "  away_team  away_score home_team  ...  wind  away_qb_id  home_qb_id  \\\n",
      "0       MIN        17.0       ATL  ...   NaN  00-0003761  00-0002876   \n",
      "1        KC        17.0       CHI  ...  12.0  00-0006300  00-0010560   \n",
      "2       PIT        43.0       CLE  ...  12.0  00-0015700  00-0004230   \n",
      "3       OAK        24.0        GB  ...  10.0  00-0005741  00-0005106   \n",
      "4       BUF        14.0       IND  ...   NaN  00-0005363  00-0010346   \n",
      "\n",
      "         away_qb_name    home_qb_name          away_coach    home_coach  \\\n",
      "0  Randall Cunningham  Chris Chandler        Dennis Green    Dan Reeves   \n",
      "1         Elvis Grbac  Shane Matthews  Gunther Cunningham   Dick Jauron   \n",
      "2     Kordell Stewart       Ty Detmer         Bill Cowher  Chris Palmer   \n",
      "3         Rich Gannon     Brett Favre          Jon Gruden    Ray Rhodes   \n",
      "4         Doug Flutie  Peyton Manning       Wade Phillips      Jim Mora   \n",
      "\n",
      "         referee stadium_id                   stadium  \n",
      "0   Gerry Austin      ATL00              Georgia Dome  \n",
      "1   Phil Luckett      CHI98             Soldier Field  \n",
      "2    Bob McElwee      CLE00  Cleveland Browns Stadium  \n",
      "3  Tony Corrente      GNB00             Lambeau Field  \n",
      "4       Ron Blum      IND99                  RCA Dome  \n",
      "\n",
      "[5 rows x 46 columns]\n"
     ]
    }
   ],
   "source": [
    "#Assign Url of the file: Url\n",
    "Url = \"https://raw.githubusercontent.com/nflverse/nfldata/refs/heads/master/data/games.csv\"\n",
    "\n",
    "#Save the file locally\n",
    "urlretrieve(Url, 'games.csv')\n",
    "\n",
    "#Read file into a DataFrame and print head\n",
    "games = pd.read_csv('games.csv')\n",
    "print(games.head())"
   ]
  },
  {
   "cell_type": "code",
   "execution_count": 13,
   "id": "72f99ddb",
   "metadata": {},
   "outputs": [
    {
     "name": "stdout",
     "output_type": "stream",
     "text": [
      "<class 'pandas.core.frame.DataFrame'>\n",
      "RangeIndex: 6991 entries, 0 to 6990\n",
      "Data columns (total 46 columns):\n",
      " #   Column            Non-Null Count  Dtype  \n",
      "---  ------            --------------  -----  \n",
      " 0   game_id           6991 non-null   object \n",
      " 1   season            6991 non-null   int64  \n",
      " 2   game_type         6991 non-null   object \n",
      " 3   week              6991 non-null   int64  \n",
      " 4   gameday           6991 non-null   object \n",
      " 5   weekday           6991 non-null   object \n",
      " 6   gametime          6732 non-null   object \n",
      " 7   away_team         6991 non-null   object \n",
      " 8   away_score        6990 non-null   float64\n",
      " 9   home_team         6991 non-null   object \n",
      " 10  home_score        6990 non-null   float64\n",
      " 11  location          6991 non-null   object \n",
      " 12  result            6990 non-null   float64\n",
      " 13  total             6990 non-null   float64\n",
      " 14  overtime          6990 non-null   float64\n",
      " 15  old_game_id       6991 non-null   int64  \n",
      " 16  gsis              6990 non-null   float64\n",
      " 17  nfl_detail_id     272 non-null    object \n",
      " 18  pfr               6991 non-null   object \n",
      " 19  pff               4292 non-null   float64\n",
      " 20  espn              6991 non-null   int64  \n",
      " 21  ftn               1376 non-null   float64\n",
      " 22  away_rest         6991 non-null   int64  \n",
      " 23  home_rest         6991 non-null   int64  \n",
      " 24  away_moneyline    5010 non-null   float64\n",
      " 25  home_moneyline    5010 non-null   float64\n",
      " 26  spread_line       6991 non-null   float64\n",
      " 27  away_spread_odds  5010 non-null   float64\n",
      " 28  home_spread_odds  5010 non-null   float64\n",
      " 29  total_line        6991 non-null   float64\n",
      " 30  under_odds        5007 non-null   float64\n",
      " 31  over_odds         5007 non-null   float64\n",
      " 32  div_game          6991 non-null   int64  \n",
      " 33  roof              6991 non-null   object \n",
      " 34  surface           6948 non-null   object \n",
      " 35  temp              5016 non-null   float64\n",
      " 36  wind              5016 non-null   float64\n",
      " 37  away_qb_id        6991 non-null   object \n",
      " 38  home_qb_id        6991 non-null   object \n",
      " 39  away_qb_name      6991 non-null   object \n",
      " 40  home_qb_name      6991 non-null   object \n",
      " 41  away_coach        6991 non-null   object \n",
      " 42  home_coach        6991 non-null   object \n",
      " 43  referee           6989 non-null   object \n",
      " 44  stadium_id        6991 non-null   object \n",
      " 45  stadium           6991 non-null   object \n",
      "dtypes: float64(18), int64(7), object(21)\n",
      "memory usage: 2.5+ MB\n"
     ]
    }
   ],
   "source": [
    "#Print info of the data\n",
    "games.info()\n"
   ]
  },
  {
   "cell_type": "code",
   "execution_count": 16,
   "id": "9ab2c441",
   "metadata": {},
   "outputs": [
    {
     "data": {
      "text/plain": [
       "(6991, 46)"
      ]
     },
     "execution_count": 16,
     "metadata": {},
     "output_type": "execute_result"
    }
   ],
   "source": [
    "#Shape of the data\n",
    "games.shape"
   ]
  },
  {
   "cell_type": "code",
   "execution_count": 15,
   "id": "57e09afd",
   "metadata": {},
   "outputs": [
    {
     "data": {
      "text/plain": [
       "location\n",
       "Home       6905\n",
       "Neutral      86\n",
       "Name: count, dtype: int64"
      ]
     },
     "execution_count": 15,
     "metadata": {},
     "output_type": "execute_result"
    }
   ],
   "source": [
    "#print value counts of location column to check if games are duplicated home/away\n",
    "games.location.value_counts()"
   ]
  },
  {
   "cell_type": "markdown",
   "id": "d4f3da4f",
   "metadata": {},
   "source": [
    "More neutral games here than just superbowls, what are the other neutral games?"
   ]
  },
  {
   "cell_type": "code",
   "execution_count": 20,
   "id": "c8310655",
   "metadata": {},
   "outputs": [
    {
     "name": "stdout",
     "output_type": "stream",
     "text": [
      "              game_id                  stadium game_type\n",
      "258   1999_21_STL_TEN             Georgia Dome        SB\n",
      "517   2000_21_BAL_NYG    Raymond James Stadium        SB\n",
      "776    2001_21_STL_NE      Louisiana Superdome        SB\n",
      "1043   2002_21_OAK_TB         Qualcomm Stadium        SB\n",
      "1159   2003_08_MIA_SD        Sun Devil Stadium       REG\n",
      "...               ...                      ...       ...\n",
      "6785  2024_06_JAX_CHI        Tottenham Stadium       REG\n",
      "6799   2024_07_NE_JAX          Wembley Stadium       REG\n",
      "6845  2024_10_NYG_CAR            Allianz Arena       REG\n",
      "6983   2024_19_MIN_LA       State Farm Stadium        WC\n",
      "6990   2024_22_KC_PHI  Mercedes-Benz Superdome        SB\n",
      "\n",
      "[86 rows x 3 columns]\n"
     ]
    }
   ],
   "source": [
    "#Determine what Neutral games are\n",
    "#Filter for neutral games and display stadium info, and game type\n",
    "neutral_games = games[games.location == 'Neutral'][['game_id', 'stadium', 'game_type']]\n",
    "print(neutral_games)\n"
   ]
  },
  {
   "cell_type": "markdown",
   "id": "2ce30480",
   "metadata": {},
   "source": [
    "It seems like most of these are games played abroad, and 2 games played to avoid wildfires, 2003 MIA @ SD regular season game and 2024 MIN @ LA wildcard game"
   ]
  },
  {
   "cell_type": "code",
   "execution_count": null,
   "id": "ce09979e",
   "metadata": {},
   "outputs": [],
   "source": []
  }
 ],
 "metadata": {
  "kernelspec": {
   "display_name": "Python 3",
   "language": "python",
   "name": "python3"
  },
  "language_info": {
   "codemirror_mode": {
    "name": "ipython",
    "version": 3
   },
   "file_extension": ".py",
   "mimetype": "text/x-python",
   "name": "python",
   "nbconvert_exporter": "python",
   "pygments_lexer": "ipython3",
   "version": "3.9.6"
  }
 },
 "nbformat": 4,
 "nbformat_minor": 5
}
